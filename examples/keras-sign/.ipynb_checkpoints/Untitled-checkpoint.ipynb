{
 "cells": [
  {
   "cell_type": "code",
   "execution_count": 70,
   "metadata": {},
   "outputs": [
    {
     "data": {
      "text/html": [
       "\n",
       "            Notebook configured with <a href=\"https://wandb.com\" target=\"_blank\">W&B</a>. You can <a href=\"https://app.wandb.ai/odsc-class/keras-sign/runs/3dbrhw14\" target=\"_blank\">open</a> the run page, or call <code>%%wandb</code>\n",
       "            in a cell containing your training loop to display live results.  Learn more in our <a href=\"https://docs.wandb.com/docs/integrations/jupyter.html\" target=\"_blank\">docs</a>.\n",
       "        "
      ],
      "text/plain": [
       "<IPython.core.display.HTML object>"
      ]
     },
     "metadata": {},
     "output_type": "display_data"
    },
    {
     "name": "stderr",
     "output_type": "stream",
     "text": [
      "E1029 17:48:30.783626 139756233799488 jupyter.py:104] Failed to query for notebook name, you can set it manually with the WANDB_NOTEBOOK_NAME environment variable\n",
      "wandb: Wandb version 0.8.13 is available!  To upgrade, please run:\n",
      "wandb:  $ pip install wandb --upgrade\n"
     ]
    }
   ],
   "source": [
    "import signdata\n",
    "import numpy as np\n",
    "from keras.models import Sequential\n",
    "from keras.layers import Dense, Flatten, Dropout, Conv2D, MaxPooling2D, Reshape\n",
    "from keras.utils import np_utils\n",
    "import wandb\n",
    "from wandb.keras import WandbCallback\n",
    "\n",
    "# logging code\n",
    "run = wandb.init()\n",
    "config = run.config\n",
    "config.loss = \"categorical_crossentropy\"\n",
    "config.optimizer = \"adam\"\n",
    "config.epochs = 10\n",
    "\n",
    "# load data\n",
    "(X_test, y_test) = signdata.load_test_data()\n",
    "(X_train, y_train) = signdata.load_train_data()"
   ]
  },
  {
   "cell_type": "code",
   "execution_count": 71,
   "metadata": {},
   "outputs": [],
   "source": [
    "img_width = X_test.shape[1]\n",
    "img_height = X_test.shape[2]\n",
    "\n",
    "X_train = X_train / 255\n",
    "X_test = X_test / 255\n",
    "\n",
    "# one hot encode outputs\n",
    "y_train = np_utils.to_categorical(y_train)\n",
    "y_test = np_utils.to_categorical(y_test)\n",
    "num_classes = y_train.shape[1]\n",
    "\n",
    "# reshape input data - This is needed for Conv layer\n",
    "X_train = X_train.reshape(\n",
    "    X_train.shape[0], 28, 28, 1)\n",
    "X_test = X_test.reshape(\n",
    "    X_test.shape[0], 28, 28, 1)"
   ]
  },
  {
   "cell_type": "code",
   "execution_count": 72,
   "metadata": {},
   "outputs": [],
   "source": [
    "# create model\n",
    "model = Sequential()\n",
    "model.add(Conv2D(256, (7, 7), activation=\"relu\"))\n",
    "model.add(MaxPooling2D((5, 5)))\n",
    "model.add(Flatten()) # This 784 in length\n",
    "model.add(Dropout(0.5))\n",
    "model.add(Dense(1000, activation=\"relu\"))  #new layer\n",
    "model.add(Dropout(0.4))\n",
    "model.add(Dense(28 ** 2, activation=\"relu\"))  #new layer, 784\n",
    "model.add(Dropout(0.3))\n",
    "model.add(Dense(256, activation=\"relu\"))  #new layer, 784\n",
    "model.add(Dropout(0.3))\n",
    "model.add(Dense(num_classes, activation=\"softmax\"))\n",
    "model.compile(loss=config.loss, optimizer=config.optimizer,\n",
    "              metrics=['accuracy'])"
   ]
  },
  {
   "cell_type": "code",
   "execution_count": 73,
   "metadata": {},
   "outputs": [
    {
     "name": "stdout",
     "output_type": "stream",
     "text": [
      "Train on 27455 samples, validate on 7172 samples\n",
      "Epoch 1/10\n",
      "   32/27455 [..............................] - ETA: 16:01 - loss: 3.2135 - acc: 0.0000e+00"
     ]
    },
    {
     "name": "stderr",
     "output_type": "stream",
     "text": [
      "E1029 17:48:40.425571 139756233799488 jupyter.py:104] Failed to query for notebook name, you can set it manually with the WANDB_NOTEBOOK_NAME environment variable\n",
      "wandb: Wandb version 0.8.13 is available!  To upgrade, please run:\n",
      "wandb:  $ pip install wandb --upgrade\n"
     ]
    },
    {
     "name": "stdout",
     "output_type": "stream",
     "text": [
      "  320/27455 [..............................] - ETA: 3:03 - loss: 3.2587 - acc: 0.0500 "
     ]
    },
    {
     "name": "stderr",
     "output_type": "stream",
     "text": [
      "/usr/local/lib/python3.6/dist-packages/keras/callbacks.py:122: UserWarning: Method on_batch_end() is slow compared to the batch update (0.417437). Check your callbacks.\n",
      "  % delta_t_median)\n"
     ]
    },
    {
     "name": "stdout",
     "output_type": "stream",
     "text": [
      "27455/27455 [==============================] - 21s 752us/step - loss: 1.6996 - acc: 0.4493 - val_loss: 0.5954 - val_acc: 0.8194\n",
      "Epoch 2/10\n",
      "27455/27455 [==============================] - 18s 665us/step - loss: 0.5663 - acc: 0.8048 - val_loss: 0.2989 - val_acc: 0.9090\n",
      "Epoch 3/10\n",
      "27455/27455 [==============================] - 18s 665us/step - loss: 0.3541 - acc: 0.8785 - val_loss: 0.2304 - val_acc: 0.9393\n",
      "Epoch 4/10\n",
      "27455/27455 [==============================] - 18s 662us/step - loss: 0.2606 - acc: 0.9140 - val_loss: 0.2084 - val_acc: 0.9403\n",
      "Epoch 5/10\n",
      "27455/27455 [==============================] - 19s 678us/step - loss: 0.2159 - acc: 0.9297 - val_loss: 0.1732 - val_acc: 0.9467\n",
      "Epoch 6/10\n",
      "27455/27455 [==============================] - 18s 664us/step - loss: 0.1869 - acc: 0.9408 - val_loss: 0.1611 - val_acc: 0.9578\n",
      "Epoch 7/10\n",
      "27455/27455 [==============================] - 18s 662us/step - loss: 0.1609 - acc: 0.9496 - val_loss: 0.1356 - val_acc: 0.9605\n",
      "Epoch 8/10\n",
      "27455/27455 [==============================] - 18s 665us/step - loss: 0.1522 - acc: 0.9519 - val_loss: 0.2254 - val_acc: 0.9431\n",
      "Epoch 9/10\n",
      "27455/27455 [==============================] - 18s 663us/step - loss: 0.1317 - acc: 0.9599 - val_loss: 0.1316 - val_acc: 0.9660\n",
      "Epoch 10/10\n",
      "27455/27455 [==============================] - 18s 665us/step - loss: 0.1255 - acc: 0.9615 - val_loss: 0.1770 - val_acc: 0.9540\n"
     ]
    },
    {
     "data": {
      "text/plain": [
       "<keras.callbacks.History at 0x7f1a9820cfd0>"
      ]
     },
     "execution_count": 73,
     "metadata": {},
     "output_type": "execute_result"
    }
   ],
   "source": [
    "# Fit the model\n",
    "model.fit(X_train, y_train, epochs=10, validation_data=(X_test, y_test),\n",
    "          callbacks=[WandbCallback(data_type=\"image\", labels=signdata.letters)])"
   ]
  },
  {
   "cell_type": "code",
   "execution_count": null,
   "metadata": {},
   "outputs": [],
   "source": []
  }
 ],
 "metadata": {
  "kernelspec": {
   "display_name": "Python 3",
   "language": "python",
   "name": "python3"
  },
  "language_info": {
   "codemirror_mode": {
    "name": "ipython",
    "version": 3
   },
   "file_extension": ".py",
   "mimetype": "text/x-python",
   "name": "python",
   "nbconvert_exporter": "python",
   "pygments_lexer": "ipython3",
   "version": "3.6.8"
  }
 },
 "nbformat": 4,
 "nbformat_minor": 4
}
